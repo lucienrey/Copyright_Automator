{
 "cells": [
  {
   "cell_type": "code",
   "execution_count": 22,
   "metadata": {},
   "outputs": [],
   "source": [
    "from PIL import Image\n",
    "from PIL import ImageDraw\n",
    "from PIL import ImageFont\n",
    "from PIL import Image, ExifTags\n",
    "\n",
    "import os\n",
    "\n",
    "def copyright_apply(input_image_path,text):\n",
    "    copyright_text = \" © \" + text + \"   \"\n",
    "    for i in input_image_path:\n",
    "        print(i)\n",
    "        photo = Image.open(i)\n",
    "        \n",
    "        try:\n",
    "            for orientation in ExifTags.TAGS.keys():\n",
    "                if ExifTags.TAGS[orientation]=='Orientation':\n",
    "                    break\n",
    "\n",
    "            exif=dict(photo._getexif().items())\n",
    "\n",
    "            if exif[orientation] == 3:\n",
    "                photo=photo.rotate(180, expand=True)\n",
    "            elif exif[orientation] == 6:\n",
    "                photo=photo.rotate(270, expand=True)\n",
    "            elif exif[orientation] == 8:\n",
    "                photo=photo.rotate(90, expand=True)\n",
    "        except (AttributeError, KeyError, IndexError):\n",
    "        # cases: image don't have getexif\n",
    "            pass\n",
    "\n",
    "        #Store image width and height\n",
    "        w, h = photo.size\n",
    "\n",
    "        # make the image editable\n",
    "        drawing = ImageDraw.Draw(photo)\n",
    "        font = ImageFont.truetype(\"Helvetica.ttf\", 68)\n",
    "\n",
    "        #get text width and height\n",
    "        text = copyright_text\n",
    "        text_w, text_h = drawing.textsize(text, font)\n",
    "\n",
    "        pos = w - text_w, (h - text_h) - 50\n",
    "\n",
    "        c_text = Image.new('RGB', ((text_w),(text_h)+5) , color = '#000000')\n",
    "        drawing = ImageDraw.Draw(c_text)\n",
    "\n",
    "        drawing.text((0,0), text, fill=\"#ffffff\", font=font)\n",
    "        c_text.putalpha(100)\n",
    "\n",
    "        photo.paste(c_text, pos, c_text)\n",
    "        photo.save(str(i)+\"copy.jpeg\")\n",
    "        \n",
    "    mylabel = tk.Label(root, text=\"Done - Please close the window\").pack()\n"
   ]
  },
  {
   "cell_type": "code",
   "execution_count": 23,
   "metadata": {},
   "outputs": [],
   "source": [
    "# get all pics from images folder"
   ]
  },
  {
   "cell_type": "code",
   "execution_count": 24,
   "metadata": {},
   "outputs": [],
   "source": [
    "import os\n",
    "path = 'images/'"
   ]
  },
  {
   "cell_type": "code",
   "execution_count": 25,
   "metadata": {},
   "outputs": [],
   "source": [
    "import tkinter as tk\n",
    "from tkinter import filedialog, Label, TOP\n",
    "\n",
    "root = tk.Tk()\n",
    "# add general settings\n",
    "root.title('Copyright Automator - 2020')\n",
    "root.minsize(700,200)\n",
    "\n",
    "# add title\n",
    "Label(root, text = 'Copyright Automator',  \n",
    "      font =('Verdana', 15)).pack(side = TOP, pady = 10) \n",
    "# add instructions\n",
    "Label(root, text = '1. Select your files \\n 2. Script will add the copyright logo \\n 3. Saved all under your Download folder \\n\\n',  \n",
    "      font =('Verdana', 10)).pack() \n"
   ]
  },
  {
   "cell_type": "code",
   "execution_count": 26,
   "metadata": {},
   "outputs": [],
   "source": [
    "def runscript(file_list):\n",
    "    print(text_entered.get())\n",
    "    for i in file_list :\n",
    "        print(i)\n",
    "    copyright_text = text_entered.get()\n",
    "    return copyright_text\n",
    "\n",
    "def getfiles():\n",
    "    file_path = filedialog.askopenfilenames(\n",
    "        initialdir=os.path.join( \"C:\", \"Download\" ),\n",
    "        title='Choose a file - You can also select multiple files')\n",
    "\n",
    "    #save all into a list\n",
    "    file_list=[]\n",
    "    for file in root.tk.splitlist(file_path):\n",
    "        file_list.append(file)\n",
    "        #mylable = tk.Label(root, text=file_path).pack()\n",
    "    mylable = tk.Label(root, text=\"Number of file to modify -> \"+str(len(file_path))).pack()\n",
    "    show = tk.Button(frame, text='Please Confirm', command=(lambda: copyright_apply(file_list,text_entered.get())))\n",
    "    show.pack()\n",
    "    \n",
    "    "
   ]
  },
  {
   "cell_type": "code",
   "execution_count": 27,
   "metadata": {},
   "outputs": [],
   "source": [
    "master = tk.Frame(root)\n",
    "master.pack()\n",
    "\n",
    "text_title =  Label(master, text=\"Copyright Text:\",font =('Verdana', 10))\n",
    "text_title.pack()\n",
    "\n",
    "text_entered = tk.Entry(master)\n",
    "text_entered.insert(10, \"insieme Valais\")\n",
    "text_entered.pack()"
   ]
  },
  {
   "cell_type": "code",
   "execution_count": null,
   "metadata": {},
   "outputs": [],
   "source": []
  },
  {
   "cell_type": "code",
   "execution_count": 28,
   "metadata": {},
   "outputs": [
    {
     "name": "stdout",
     "output_type": "stream",
     "text": [
      "/Users/lucienrey/Documents/2020/Jupyter/images/IMG_1519.JPG\n",
      "/Users/lucienrey/Documents/2020/Jupyter/images/IMG_1519.JPGcopy.jpeg\n",
      "/Users/lucienrey/Documents/2020/Jupyter/images/IMG_1519.JPGcopy.jpegcopy.jpeg\n",
      "/Users/lucienrey/Documents/2020/Jupyter/images/IMG_7598.JPG\n"
     ]
    }
   ],
   "source": [
    "frame = tk.Frame(root)\n",
    "frame.pack()\n",
    "\n",
    "\n",
    "\n",
    "slogan = tk.Button(frame,text=\"Run the Script Copyright\",command=(lambda: getfiles()))\n",
    "slogan.pack()\n",
    "\n",
    "button = tk.Button(frame, text=\"Exit\", fg=\"red\",command=quit)\n",
    "button.pack()\n",
    "\n",
    "root.mainloop()\n"
   ]
  },
  {
   "cell_type": "code",
   "execution_count": null,
   "metadata": {},
   "outputs": [],
   "source": []
  },
  {
   "cell_type": "code",
   "execution_count": null,
   "metadata": {},
   "outputs": [],
   "source": []
  },
  {
   "cell_type": "code",
   "execution_count": 15,
   "metadata": {},
   "outputs": [],
   "source": [
    "import tkinter\n",
    "from tkinter import filedialog\n",
    "\n",
    "root = tkinter.Tk()\n",
    "root.title('Copyright Automator - 2020')\n",
    "file_path = filedialog.askopenfilenames(parent=root,title='Choose a file - You can also select multiple files')\n",
    "\n",
    "#save all into a list\n",
    "file_list=[]\n",
    "for file in root.tk.splitlist(file_path):\n",
    "    file_list.append(file)\n",
    "    mylable = tkinter.Label(root, text=file_path).pack()\n",
    "\n",
    "root.mainloop()"
   ]
  },
  {
   "cell_type": "code",
   "execution_count": null,
   "metadata": {},
   "outputs": [],
   "source": []
  },
  {
   "cell_type": "code",
   "execution_count": null,
   "metadata": {},
   "outputs": [],
   "source": [
    "file_list=[]\n",
    "files = filedialog.askopenfilenames(parent=root,title='Choose a file - You can also select multiple files')\n",
    "for file in root.tk.splitlist(files):\n",
    "    file_list.append(file)\n",
    "    print(root.tk.splitlist(files))"
   ]
  },
  {
   "cell_type": "code",
   "execution_count": 2,
   "metadata": {},
   "outputs": [
    {
     "data": {
      "text/plain": [
       "['/Users/lucienrey/Documents/2020/Tax 2019/Flights/BA_10.01.2019.pdf',\n",
       " '/Users/lucienrey/Documents/2020/Tax 2019/Flights/BA_26.04.2019.pdf',\n",
       " '/Users/lucienrey/Documents/2020/Tax 2019/Flights/Vitality_22.02.2019.pdf']"
      ]
     },
     "execution_count": 2,
     "metadata": {},
     "output_type": "execute_result"
    }
   ],
   "source": [
    "file_list"
   ]
  },
  {
   "cell_type": "code",
   "execution_count": null,
   "metadata": {},
   "outputs": [],
   "source": []
  },
  {
   "cell_type": "code",
   "execution_count": 54,
   "metadata": {},
   "outputs": [],
   "source": [
    "## example\n",
    "def copyright_apply(input_image_path,\n",
    "                   output_image_path,\n",
    "                   text):\n",
    "    photo = Image.open(input_image_path)\n",
    "    \n",
    "    #Store image width and height\n",
    "    w, h = photo.size\n",
    "\n",
    "    # make the image editable\n",
    "    drawing = ImageDraw.Draw(photo)\n",
    "    font = ImageFont.truetype(\"Helvetica.ttf\", 68)\n",
    "    \n",
    "    #get text width and height\n",
    "    text = \" © \" + text + \"   \"\n",
    "    text_w, text_h = drawing.textsize(text, font)\n",
    "    \n",
    "    pos = w - text_w, (h - text_h) - 50\n",
    "    \n",
    "    c_text = Image.new('RGB', ((text_w),(text_h)+5) , color = '#000000')\n",
    "    drawing = ImageDraw.Draw(c_text)\n",
    "    \n",
    "    drawing.text((0,0), text, fill=\"#ffffff\", font=font)\n",
    "    c_text.putalpha(100)\n",
    "   \n",
    "    photo.paste(c_text, pos, c_text)\n",
    "    photo.save(output_image_path)"
   ]
  },
  {
   "cell_type": "code",
   "execution_count": 118,
   "metadata": {},
   "outputs": [
    {
     "ename": "TypeError",
     "evalue": "copyright_apply() takes 2 positional arguments but 3 were given",
     "output_type": "error",
     "traceback": [
      "\u001b[0;31m---------------------------------------------------------------------------\u001b[0m",
      "\u001b[0;31mTypeError\u001b[0m                                 Traceback (most recent call last)",
      "\u001b[0;32m<ipython-input-118-37a604cba235>\u001b[0m in \u001b[0;36m<module>\u001b[0;34m\u001b[0m\n\u001b[1;32m      1\u001b[0m \u001b[0;32mimport\u001b[0m \u001b[0mglob\u001b[0m\u001b[0;34m,\u001b[0m \u001b[0mos\u001b[0m\u001b[0;34m\u001b[0m\u001b[0;34m\u001b[0m\u001b[0m\n\u001b[1;32m      2\u001b[0m \u001b[0;32mfor\u001b[0m \u001b[0mfile\u001b[0m \u001b[0;32min\u001b[0m \u001b[0mglob\u001b[0m\u001b[0;34m.\u001b[0m\u001b[0mglob\u001b[0m\u001b[0;34m(\u001b[0m\u001b[0mpath\u001b[0m\u001b[0;34m+\u001b[0m\u001b[0;34m\"*.JPG\"\u001b[0m\u001b[0;34m)\u001b[0m\u001b[0;34m:\u001b[0m\u001b[0;34m\u001b[0m\u001b[0;34m\u001b[0m\u001b[0m\n\u001b[0;32m----> 3\u001b[0;31m     \u001b[0mcopyright_apply\u001b[0m\u001b[0;34m(\u001b[0m\u001b[0mfile\u001b[0m\u001b[0;34m,\u001b[0m \u001b[0mfile\u001b[0m \u001b[0;34m+\u001b[0m \u001b[0;34m'new.jpeg'\u001b[0m\u001b[0;34m,\u001b[0m\u001b[0;34m\"insieme Valais\"\u001b[0m\u001b[0;34m)\u001b[0m\u001b[0;34m\u001b[0m\u001b[0;34m\u001b[0m\u001b[0m\n\u001b[0m\u001b[1;32m      4\u001b[0m     \u001b[0mprint\u001b[0m\u001b[0;34m(\u001b[0m\u001b[0mfile\u001b[0m\u001b[0;34m)\u001b[0m\u001b[0;34m\u001b[0m\u001b[0;34m\u001b[0m\u001b[0m\n",
      "\u001b[0;31mTypeError\u001b[0m: copyright_apply() takes 2 positional arguments but 3 were given"
     ]
    }
   ],
   "source": [
    "import glob, os\n",
    "for file in glob.glob(path+\"*.JPG\"):\n",
    "    copyright_apply(file, file + 'new.jpeg',\"insieme Valais\")\n",
    "    print(file)"
   ]
  },
  {
   "cell_type": "code",
   "execution_count": 125,
   "metadata": {},
   "outputs": [
    {
     "data": {
      "text/plain": [
       "'/Users/lucienrey/Documents/2020/Jupyter'"
      ]
     },
     "execution_count": 125,
     "metadata": {},
     "output_type": "execute_result"
    }
   ],
   "source": [
    "pwd"
   ]
  },
  {
   "cell_type": "code",
   "execution_count": 181,
   "metadata": {},
   "outputs": [],
   "source": [
    "photo = Image.open('/Users/lucienrey/Documents/2020/Jupyter/images/IMG_5687.JPG')"
   ]
  },
  {
   "cell_type": "code",
   "execution_count": 227,
   "metadata": {},
   "outputs": [],
   "source": [
    "from PIL import Image, ExifTags\n",
    "\n",
    "photo=Image.open('/Users/lucienrey/Documents/2020/Jupyter/images/IMG_5687.JPG')\n",
    "\n",
    "for orientation in ExifTags.TAGS.keys():\n",
    "    if ExifTags.TAGS[orientation]=='Orientation':\n",
    "        break\n",
    "\n",
    "exif=dict(photo._getexif().items())\n",
    "\n",
    "if exif[orientation] == 3:\n",
    "    photo=photo.rotate(180, expand=True)\n",
    "elif exif[orientation] == 6:\n",
    "    photo=photo.rotate(270, expand=True)\n",
    "elif exif[orientation] == 8:\n",
    "    photo=photo.rotate(90, expand=True)\n"
   ]
  },
  {
   "cell_type": "code",
   "execution_count": null,
   "metadata": {},
   "outputs": [],
   "source": []
  },
  {
   "cell_type": "code",
   "execution_count": null,
   "metadata": {},
   "outputs": [],
   "source": []
  },
  {
   "cell_type": "code",
   "execution_count": 228,
   "metadata": {},
   "outputs": [],
   "source": [
    "    #Store image width and height\n",
    "    w, h = photo.size"
   ]
  },
  {
   "cell_type": "code",
   "execution_count": null,
   "metadata": {},
   "outputs": [],
   "source": []
  },
  {
   "cell_type": "code",
   "execution_count": null,
   "metadata": {},
   "outputs": [],
   "source": []
  },
  {
   "cell_type": "code",
   "execution_count": null,
   "metadata": {},
   "outputs": [],
   "source": []
  },
  {
   "cell_type": "code",
   "execution_count": 229,
   "metadata": {},
   "outputs": [],
   "source": [
    "    # make the image editable\n",
    "    drawing = ImageDraw.Draw(photo)\n",
    "    font = ImageFont.truetype(\"helvetica.ttf\", 68)"
   ]
  },
  {
   "cell_type": "code",
   "execution_count": 230,
   "metadata": {},
   "outputs": [],
   "source": [
    "    #get text width and height\n",
    "    text = \"© insieme Valais\"\n",
    "    text_w, text_h = drawing.textsize(text, font)"
   ]
  },
  {
   "cell_type": "code",
   "execution_count": 231,
   "metadata": {},
   "outputs": [],
   "source": [
    "    pos = (w - text_w), (h - text_h) - 50\n"
   ]
  },
  {
   "cell_type": "code",
   "execution_count": 232,
   "metadata": {},
   "outputs": [],
   "source": [
    "    c_text = Image.new('RGB', (text_w, (text_h)), color = '#000000')\n",
    "    drawing = ImageDraw.Draw(c_text)\n",
    "    \n",
    "    drawing.text((0,0), text, fill=\"#ffffff\", font=font)\n",
    "    c_text.putalpha(100)"
   ]
  },
  {
   "cell_type": "code",
   "execution_count": 233,
   "metadata": {},
   "outputs": [],
   "source": [
    "    photo.paste(c_text, pos, c_text)\n"
   ]
  },
  {
   "cell_type": "code",
   "execution_count": 234,
   "metadata": {},
   "outputs": [],
   "source": [
    "    photo.save('image1-new.jpeg')"
   ]
  },
  {
   "cell_type": "code",
   "execution_count": null,
   "metadata": {},
   "outputs": [],
   "source": []
  },
  {
   "cell_type": "code",
   "execution_count": 2,
   "metadata": {},
   "outputs": [],
   "source": [
    "## example\n",
    "def copyright_apply(input_image_path,\n",
    "                   output_image_path,\n",
    "                   text):\n",
    "    photo = Image.open(input_image_path)\n",
    "    \n",
    "    #Store image width and height\n",
    "    w, h = photo.size\n",
    "\n",
    "    # make the image editable\n",
    "    drawing = ImageDraw.Draw(photo)\n",
    "    font = ImageFont.truetype(\"Helvetica.ttf\", 10)\n",
    "    \n",
    "    #get text width and height\n",
    "    text = \"© \" + text + \"   \"\n",
    "    text_w, text_h = drawing.textsize(text, font)\n",
    "    \n",
    "    pos = w - text_w, (h - text_h) - 50\n",
    "    \n",
    "    c_text = Image.new('RGB', (text_w, (text_h)), color = '#000000')\n",
    "    drawing = ImageDraw.Draw(c_text)\n",
    "    \n",
    "    drawing.text((0,0), text, fill=\"#ffffff\", font=font)\n",
    "    c_text.putalpha(100)\n",
    "   \n",
    "    photo.paste(c_text, pos, c_text)\n",
    "    photo.save(output_image_path)"
   ]
  },
  {
   "cell_type": "code",
   "execution_count": null,
   "metadata": {},
   "outputs": [],
   "source": []
  }
 ],
 "metadata": {
  "kernelspec": {
   "display_name": "Python 3",
   "language": "python",
   "name": "python3"
  },
  "language_info": {
   "codemirror_mode": {
    "name": "ipython",
    "version": 3
   },
   "file_extension": ".py",
   "mimetype": "text/x-python",
   "name": "python",
   "nbconvert_exporter": "python",
   "pygments_lexer": "ipython3",
   "version": "3.8.3"
  }
 },
 "nbformat": 4,
 "nbformat_minor": 4
}
